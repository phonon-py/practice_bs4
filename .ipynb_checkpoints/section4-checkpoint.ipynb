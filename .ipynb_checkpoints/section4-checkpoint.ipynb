{
 "cells": [
  {
   "cell_type": "markdown",
   "metadata": {},
   "source": [
    "# 【第4回】BeautifulSoupの使い方②\n",
    "\n",
    "\n",
    "前回のレクチャーでは、Pythonの公式ページから`<h2>`を1つだけ取得しました。\n",
    "\n",
    "今回のレクチャーでは、複数の`<h2>`からテキスト情報を取得する方法を学んでいきたいと思います。\n",
    "\n",
    "<br>\n",
    "\n",
    "ここまで学習しておけば、JavaScriptが必要ないページであれば、あとは取得したいタグ部分(`<h2>`, `<li>`, `<div>`)を指定するだけで、欲しい情報を自由自在に取得できるようになります。\n",
    "\n",
    "<br>\n",
    "\n",
    "というわけで、複数のタグから情報取得する方法を学んでいきましょう！\n",
    "\n",
    "*※動画の感想を、僕のTwitterにメンションしてツイートしていただけると嬉しいです（ ;  ; ）！*\n",
    "\n",
    "Twitter : [@hayatasuuu](https://twitter.com/hayatasuuu)"
   ]
  },
  {
   "cell_type": "markdown",
   "metadata": {},
   "source": [
    "# 複数の同一タグから情報取得する\n",
    "\n",
    "今回もPythonのホームページを使っていきます。\n",
    "\n",
    "前回は「Get Started」しか取得しなかったので、今回は他の`<h2>`タグからテキスト情報を取得していきましょう。"
   ]
  },
  {
   "cell_type": "markdown",
   "metadata": {},
   "source": [
    "## 必要なライブラリのインポート\n",
    "\n",
    "まずはライブラリのインポートをします。"
   ]
  },
  {
   "cell_type": "code",
   "execution_count": null,
   "metadata": {},
   "outputs": [],
   "source": []
  },
  {
   "cell_type": "markdown",
   "metadata": {},
   "source": [
    "それではいつも通り、以下の流れでスクレイピングしていきましょう。\n",
    "\n",
    "1. RequestsでHTMLを取得する\n",
    "2. 取得したHTMLを解析する(BeautifulSoup)\n",
    "3. 自分が欲しい情報を取得する"
   ]
  },
  {
   "cell_type": "markdown",
   "metadata": {},
   "source": [
    "## STEP1 : RequestsでHTMLを取得する\n",
    "\n",
    "前回と同じで、Pythonの公式ページからHTML情報を取得していきたいと思います。\n",
    "\n",
    "https://www.python.org/\n",
    "\n",
    "上記のURLに対して、Requestsを使ってアクセスしてみましょう。"
   ]
  },
  {
   "cell_type": "code",
   "execution_count": null,
   "metadata": {},
   "outputs": [],
   "source": [
    "# 変数urlに、Python公式ページのURLを入れる\n",
    "\n",
    "\n",
    "# URLにアクセスした結果を、変数rに代入する\n"
   ]
  },
  {
   "cell_type": "markdown",
   "metadata": {},
   "source": [
    "これでPython公式ページへのアクセスが完了しました。\n",
    "\n",
    "`r.text`を使えば、Python公式ページのHTMLを確認できる状態です。"
   ]
  },
  {
   "cell_type": "markdown",
   "metadata": {},
   "source": [
    "## STEP2 : 取得したHTMLを解析する\n",
    "\n",
    "取得したHTMLを`BeautifulSoup`で解析しましょう。"
   ]
  },
  {
   "cell_type": "code",
   "execution_count": null,
   "metadata": {},
   "outputs": [],
   "source": [
    "# BeautifulSoupでHTMLを解析する\n"
   ]
  },
  {
   "cell_type": "markdown",
   "metadata": {},
   "source": [
    "あとは、この`soup`を使って複数の`<h2>`を取得するだけです。"
   ]
  },
  {
   "cell_type": "markdown",
   "metadata": {},
   "source": [
    "## STEP3 : 複数のh2タグから情報を取得する\n",
    "\n",
    "前回は最初にヒットする`<h2>`だけ取得しました。\n",
    "\n",
    "今回はPython公式ページに存在する、すべての`<h2>`タグを取得したいと思います。\n",
    "\n",
    "<br>\n",
    "\n",
    "前回のレクチャーで少し触れましたが、該当するすべての要素を取得するには`find_all()`を使ってあげます。"
   ]
  },
  {
   "cell_type": "code",
   "execution_count": null,
   "metadata": {},
   "outputs": [],
   "source": [
    "# soupからすべてのh2を取得する\n"
   ]
  },
  {
   "cell_type": "markdown",
   "metadata": {},
   "source": [
    "<hr>\n",
    "\n",
    "このように、`find_all()`を使うと、すべての`<h2>`タグを取得できました。\n",
    "\n",
    "`find_all()`で取得した結果をよく見てみると、四角カッコで囲まれていることが分かります。\n",
    "\n",
    "<br>\n",
    "\n",
    "Pythonで四角カッコに囲まれているということは、「リストに入っている」ということになりますね。\n",
    "\n",
    "リストであるということは、最初の要素を取り出したいと思ったとき、以下のように取得できます。"
   ]
  },
  {
   "cell_type": "code",
   "execution_count": null,
   "metadata": {},
   "outputs": [],
   "source": [
    "# find_all()で取得した結果から、最初の1つを取得する\n"
   ]
  },
  {
   "cell_type": "markdown",
   "metadata": {},
   "source": [
    "このように、前回取得した`Get Started`を取得できました。\n",
    "\n",
    "ちなみに`find()`の結果と比較すると、ちゃんと一致することが分かります。"
   ]
  },
  {
   "cell_type": "code",
   "execution_count": null,
   "metadata": {},
   "outputs": [],
   "source": [
    "# find()とfind_all()の1つ目を比較\n"
   ]
  },
  {
   "cell_type": "markdown",
   "metadata": {},
   "source": [
    "つまり`find()`でできることは、`find_all()`でもできるってことですね！"
   ]
  },
  {
   "cell_type": "markdown",
   "metadata": {},
   "source": [
    "## find_all()で取得した要素からテキストだけ取得する\n",
    "\n",
    "`find()`を使っていたときは、以下のようにしてテキスト情報を取得していました。"
   ]
  },
  {
   "cell_type": "code",
   "execution_count": null,
   "metadata": {},
   "outputs": [],
   "source": [
    "# find()でテキスト情報の取得\n"
   ]
  },
  {
   "cell_type": "markdown",
   "metadata": {},
   "source": [
    "では、`find_all()`でも同じように`find_all().text`と書いてテキスト情報を取得できるのかというと、、、それはできません！\n",
    "\n",
    "実際にコードを入力して確認してみましょう。"
   ]
  },
  {
   "cell_type": "code",
   "execution_count": null,
   "metadata": {},
   "outputs": [],
   "source": [
    "# find_all()に対してテキスト取得してみる\n"
   ]
  },
  {
   "cell_type": "markdown",
   "metadata": {},
   "source": [
    "このように「`text`は持っていない」というエラーが発生しました。\n",
    "\n",
    "さらにエラーを読み進めてみると、`find()`を使おうとして`find_all()`を使ってしまったのかい？みたいなニュアンスで、少し小バカにされます。\n",
    "\n",
    "<br>\n",
    "\n",
    "なぜ`find_all()`で`.text`を使えないのかというと、それはリストの形になっているからですね。\n",
    "\n",
    "なので「`find_all()`で取得したリストからテキストだけ取得したい」と思ったら、以下のようにforループを使って取り出してあげる必要があります。"
   ]
  },
  {
   "cell_type": "code",
   "execution_count": null,
   "metadata": {},
   "outputs": [],
   "source": [
    "# forループを使って、中身のテキストを確認する\n"
   ]
  },
  {
   "cell_type": "markdown",
   "metadata": {},
   "source": [
    "このようにすれば、中身のテキストを表示できます。\n",
    "\n",
    "また`find_all()`で取得したように、リストの形でテキストを取得しておきたい場合には、以下のように書いてあげればOKです。"
   ]
  },
  {
   "cell_type": "code",
   "execution_count": null,
   "metadata": {},
   "outputs": [],
   "source": [
    "# find_all()で取得したh2からテキストだけ取得してh2_text_listに格納\n"
   ]
  },
  {
   "cell_type": "markdown",
   "metadata": {},
   "source": [
    "実際に中身を確認してみましょう"
   ]
  },
  {
   "cell_type": "code",
   "execution_count": null,
   "metadata": {},
   "outputs": [],
   "source": [
    "# h2_text_listの中身を確認する\n"
   ]
  },
  {
   "cell_type": "markdown",
   "metadata": {},
   "source": [
    "これでテキスト情報をすべて取得できるようになりました。\n",
    "\n",
    "*※可能であればリスト内包表記で書いてあげると良いですね!!*\n",
    "\n",
    "<br>\n",
    "\n",
    "これまでに習得した知識を整理すると、以下のようになっています。\n",
    "\n",
    "- 指定したタグから1つだけ要素を取り出す : `soup.find('タグ')`\n",
    "  - テキストを取り出す : `soup.find('タグ').text`\n",
    "- 指定したタグから複数の要素を取り出す : `soup.find_all('タグ')`\n",
    "  - テキストを取り出す : forループを使ってあげる\n",
    "\n",
    "\n",
    "これで指定したタグに対して、自由に情報を取得できるようになりました。\n",
    "\n",
    "ただ、今のままだと「複数の中から、特定のタグだけ取り出す」といった、痒い所に手が届かない状況になっています。\n",
    "\n",
    "<br>\n",
    "\n",
    "例えば「`<span>`タグの中から、`class=prompt`を取り出す」といった操作ですね。\n",
    "\n",
    "<br>\n",
    "\n",
    "というわけで、次回の講義では「複数の同じタグから、特定のクラスが付与されたものだけ取り出す」という処理を学んでいきたいと思います。\n",
    "\n",
    "少しずつややこしくなってくるかと思いますので、ぜひこちらのNotebookと、できればYouTube動画を観て復習していただければと思います！"
   ]
  },
  {
   "cell_type": "code",
   "execution_count": null,
   "metadata": {},
   "outputs": [],
   "source": []
  }
 ],
 "metadata": {
  "kernelspec": {
   "display_name": "Python 3",
   "language": "python",
   "name": "python3"
  },
  "language_info": {
   "codemirror_mode": {
    "name": "ipython",
    "version": 3
   },
   "file_extension": ".py",
   "mimetype": "text/x-python",
   "name": "python",
   "nbconvert_exporter": "python",
   "pygments_lexer": "ipython3",
   "version": "3.7.3"
  },
  "toc": {
   "base_numbering": 1,
   "nav_menu": {},
   "number_sections": true,
   "sideBar": true,
   "skip_h1_title": false,
   "title_cell": "Table of Contents",
   "title_sidebar": "Contents",
   "toc_cell": false,
   "toc_position": {},
   "toc_section_display": true,
   "toc_window_display": true
  }
 },
 "nbformat": 4,
 "nbformat_minor": 2
}
