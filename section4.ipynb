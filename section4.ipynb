{
 "cells": [
  {
   "cell_type": "markdown",
   "metadata": {},
   "source": [
    "# 【第4回】BeautifulSoupの使い方②\n",
    "\n",
    "\n",
    "前回のレクチャーでは、Pythonの公式ページから`<h2>`を1つだけ取得しました。\n",
    "\n",
    "今回のレクチャーでは、複数の`<h2>`からテキスト情報を取得する方法を学んでいきたいと思います。\n",
    "\n",
    "<br>\n",
    "\n",
    "ここまで学習しておけば、JavaScriptが必要ないページであれば、あとは取得したいタグ部分(`<h2>`, `<li>`, `<div>`)を指定するだけで、欲しい情報を自由自在に取得できるようになります。\n",
    "\n",
    "<br>\n",
    "\n",
    "というわけで、複数のタグから情報取得する方法を学んでいきましょう！\n",
    "\n",
    "*※動画の感想を、僕のTwitterにメンションしてツイートしていただけると嬉しいです（ ;  ; ）！*\n",
    "\n",
    "Twitter : [@hayatasuuu](https://twitter.com/hayatasuuu)"
   ]
  },
  {
   "cell_type": "markdown",
   "metadata": {},
   "source": [
    "# 複数の同一タグから情報取得する\n",
    "\n",
    "今回もPythonのホームページを使っていきます。\n",
    "\n",
    "前回は「Get Started」しか取得しなかったので、今回は他の`<h2>`タグからテキスト情報を取得していきましょう。"
   ]
  },
  {
   "cell_type": "markdown",
   "metadata": {},
   "source": [
    "## 必要なライブラリのインポート\n",
    "\n",
    "まずはライブラリのインポートをします。"
   ]
  },
  {
   "cell_type": "code",
   "execution_count": 1,
   "metadata": {},
   "outputs": [],
   "source": [
    "from bs4 import BeautifulSoup\n",
    "import requests"
   ]
  },
  {
   "cell_type": "markdown",
   "metadata": {},
   "source": [
    "それではいつも通り、以下の流れでスクレイピングしていきましょう。\n",
    "\n",
    "1. RequestsでHTMLを取得する\n",
    "2. 取得したHTMLを解析する(BeautifulSoup)\n",
    "3. 自分が欲しい情報を取得する"
   ]
  },
  {
   "cell_type": "markdown",
   "metadata": {},
   "source": [
    "## STEP1 : RequestsでHTMLを取得する\n",
    "\n",
    "前回と同じで、Pythonの公式ページからHTML情報を取得していきたいと思います。\n",
    "\n",
    "https://www.python.org/\n",
    "\n",
    "上記のURLに対して、Requestsを使ってアクセスしてみましょう。"
   ]
  },
  {
   "cell_type": "code",
   "execution_count": 2,
   "metadata": {},
   "outputs": [],
   "source": [
    "# 変数urlに、Python公式ページのURLを入れる\n",
    "url = 'https://www.python.org/'\n",
    "\n",
    "# URLにアクセスした結果を、変数rに代入する\n",
    "res = requests.get(url)"
   ]
  },
  {
   "cell_type": "markdown",
   "metadata": {},
   "source": [
    "これでPython公式ページへのアクセスが完了しました。\n",
    "\n",
    "`r.text`を使えば、Python公式ページのHTMLを確認できる状態です。"
   ]
  },
  {
   "cell_type": "markdown",
   "metadata": {},
   "source": [
    "## STEP2 : 取得したHTMLを解析する\n",
    "\n",
    "取得したHTMLを`BeautifulSoup`で解析しましょう。"
   ]
  },
  {
   "cell_type": "code",
   "execution_count": 3,
   "metadata": {},
   "outputs": [],
   "source": [
    "# BeautifulSoupでHTMLを解析する\n",
    "soup = BeautifulSoup(res.text)"
   ]
  },
  {
   "cell_type": "markdown",
   "metadata": {},
   "source": [
    "あとは、この`soup`を使って複数の`<h2>`を取得するだけです。"
   ]
  },
  {
   "cell_type": "markdown",
   "metadata": {},
   "source": [
    "## STEP3 : 複数のh2タグから情報を取得する\n",
    "\n",
    "前回は最初にヒットする`<h2>`だけ取得しました。\n",
    "\n",
    "今回はPython公式ページに存在する、すべての`<h2>`タグを取得したいと思います。\n",
    "\n",
    "<br>\n",
    "\n",
    "前回のレクチャーで少し触れましたが、該当するすべての要素を取得するには`find_all()`を使ってあげます。"
   ]
  },
  {
   "cell_type": "code",
   "execution_count": 4,
   "metadata": {},
   "outputs": [
    {
     "data": {
      "text/plain": [
       "[<h2 class=\"widget-title\"><span aria-hidden=\"true\" class=\"icon-get-started\"></span>Get Started</h2>,\n",
       " <h2 class=\"widget-title\"><span aria-hidden=\"true\" class=\"icon-download\"></span>Download</h2>,\n",
       " <h2 class=\"widget-title\"><span aria-hidden=\"true\" class=\"icon-documentation\"></span>Docs</h2>,\n",
       " <h2 class=\"widget-title\"><span aria-hidden=\"true\" class=\"icon-jobs\"></span>Jobs</h2>,\n",
       " <h2 class=\"widget-title\"><span aria-hidden=\"true\" class=\"icon-news\"></span>Latest News</h2>,\n",
       " <h2 class=\"widget-title\"><span aria-hidden=\"true\" class=\"icon-calendar\"></span>Upcoming Events</h2>,\n",
       " <h2 class=\"widget-title\"><span aria-hidden=\"true\" class=\"icon-success-stories\"></span>Success Stories</h2>,\n",
       " <h2 class=\"widget-title\"><span aria-hidden=\"true\" class=\"icon-python\"></span>Use Python for…</h2>,\n",
       " <h2 class=\"widget-title\">\n",
       " <span class=\"prompt\">&gt;&gt;&gt;</span> <a href=\"/dev/peps/\">Python Enhancement Proposals<span class=\"say-no-more\"> (PEPs)</span></a>: The future of Python<span class=\"say-no-more\"> is discussed here.</span>\n",
       " <a aria-hidden=\"true\" class=\"rss-link\" href=\"/dev/peps/peps.rss\"><span class=\"icon-feed\"></span> RSS</a>\n",
       " </h2>,\n",
       " <h2 class=\"widget-title\">\n",
       " <span class=\"prompt\">&gt;&gt;&gt;</span> <a href=\"/psf/\">Python Software Foundation</a>\n",
       " </h2>]"
      ]
     },
     "execution_count": 4,
     "metadata": {},
     "output_type": "execute_result"
    }
   ],
   "source": [
    "# soupからすべてのh2を取得する\n",
    "soup.find_all('h2')"
   ]
  },
  {
   "cell_type": "markdown",
   "metadata": {},
   "source": [
    "<hr>\n",
    "\n",
    "このように、`find_all()`を使うと、すべての`<h2>`タグを取得できました。\n",
    "\n",
    "`find_all()`で取得した結果をよく見てみると、四角カッコで囲まれていることが分かります。\n",
    "\n",
    "<br>\n",
    "\n",
    "Pythonで四角カッコに囲まれているということは、「リストに入っている」ということになりますね。\n",
    "\n",
    "リストであるということは、最初の要素を取り出したいと思ったとき、以下のように取得できます。"
   ]
  },
  {
   "cell_type": "code",
   "execution_count": 5,
   "metadata": {},
   "outputs": [
    {
     "data": {
      "text/plain": [
       "<h2 class=\"widget-title\"><span aria-hidden=\"true\" class=\"icon-get-started\"></span>Get Started</h2>"
      ]
     },
     "execution_count": 5,
     "metadata": {},
     "output_type": "execute_result"
    }
   ],
   "source": [
    "# find_all()で取得した結果から、最初の1つを取得する\n",
    "soup.find_all('h2')[0]"
   ]
  },
  {
   "cell_type": "markdown",
   "metadata": {},
   "source": [
    "このように、前回取得した`Get Started`を取得できました。\n",
    "\n",
    "ちなみに`find()`の結果と比較すると、ちゃんと一致することが分かります。"
   ]
  },
  {
   "cell_type": "code",
   "execution_count": 6,
   "metadata": {},
   "outputs": [
    {
     "data": {
      "text/plain": [
       "True"
      ]
     },
     "execution_count": 6,
     "metadata": {},
     "output_type": "execute_result"
    }
   ],
   "source": [
    "# find()とfind_all()の1つ目を比較\n",
    "soup.find('h2') == soup.find_all('h2')[0]"
   ]
  },
  {
   "cell_type": "markdown",
   "metadata": {},
   "source": [
    "つまり`find()`でできることは、`find_all()`でもできるってことですね！"
   ]
  },
  {
   "cell_type": "markdown",
   "metadata": {},
   "source": [
    "## find_all()で取得した要素からテキストだけ取得する\n",
    "\n",
    "`find()`を使っていたときは、以下のようにしてテキスト情報を取得していました。"
   ]
  },
  {
   "cell_type": "code",
   "execution_count": 7,
   "metadata": {},
   "outputs": [
    {
     "data": {
      "text/plain": [
       "'Get Started'"
      ]
     },
     "execution_count": 7,
     "metadata": {},
     "output_type": "execute_result"
    }
   ],
   "source": [
    "# find()でテキスト情報の取得\n",
    "soup.find('h2').text"
   ]
  },
  {
   "cell_type": "markdown",
   "metadata": {},
   "source": [
    "では、`find_all()`でも同じように`find_all().text`と書いてテキスト情報を取得できるのかというと、、、それはできません！\n",
    "\n",
    "実際にコードを入力して確認してみましょう。"
   ]
  },
  {
   "cell_type": "code",
   "execution_count": 8,
   "metadata": {},
   "outputs": [
    {
     "ename": "AttributeError",
     "evalue": "ResultSet object has no attribute 'text'. You're probably treating a list of elements like a single element. Did you call find_all() when you meant to call find()?",
     "output_type": "error",
     "traceback": [
      "\u001b[0;31m---------------------------------------------------------------------------\u001b[0m",
      "\u001b[0;31mAttributeError\u001b[0m                            Traceback (most recent call last)",
      "Input \u001b[0;32mIn [8]\u001b[0m, in \u001b[0;36m<cell line: 2>\u001b[0;34m()\u001b[0m\n\u001b[1;32m      1\u001b[0m \u001b[38;5;66;03m# find_all()に対してテキスト取得してみる\u001b[39;00m\n\u001b[0;32m----> 2\u001b[0m \u001b[43msoup\u001b[49m\u001b[38;5;241;43m.\u001b[39;49m\u001b[43mfind_all\u001b[49m\u001b[43m(\u001b[49m\u001b[38;5;124;43m'\u001b[39;49m\u001b[38;5;124;43mh2\u001b[39;49m\u001b[38;5;124;43m'\u001b[39;49m\u001b[43m)\u001b[49m\u001b[38;5;241;43m.\u001b[39;49m\u001b[43mtext\u001b[49m\n",
      "File \u001b[0;32m~/miniforge3/envs/仮想環テスト/lib/python3.8/site-packages/bs4/element.py:2289\u001b[0m, in \u001b[0;36mResultSet.__getattr__\u001b[0;34m(self, key)\u001b[0m\n\u001b[1;32m   2287\u001b[0m \u001b[38;5;28;01mdef\u001b[39;00m \u001b[38;5;21m__getattr__\u001b[39m(\u001b[38;5;28mself\u001b[39m, key):\n\u001b[1;32m   2288\u001b[0m     \u001b[38;5;124;03m\"\"\"Raise a helpful exception to explain a common code fix.\"\"\"\u001b[39;00m\n\u001b[0;32m-> 2289\u001b[0m     \u001b[38;5;28;01mraise\u001b[39;00m \u001b[38;5;167;01mAttributeError\u001b[39;00m(\n\u001b[1;32m   2290\u001b[0m         \u001b[38;5;124m\"\u001b[39m\u001b[38;5;124mResultSet object has no attribute \u001b[39m\u001b[38;5;124m'\u001b[39m\u001b[38;5;132;01m%s\u001b[39;00m\u001b[38;5;124m'\u001b[39m\u001b[38;5;124m. You\u001b[39m\u001b[38;5;124m'\u001b[39m\u001b[38;5;124mre probably treating a list of elements like a single element. Did you call find_all() when you meant to call find()?\u001b[39m\u001b[38;5;124m\"\u001b[39m \u001b[38;5;241m%\u001b[39m key\n\u001b[1;32m   2291\u001b[0m     )\n",
      "\u001b[0;31mAttributeError\u001b[0m: ResultSet object has no attribute 'text'. You're probably treating a list of elements like a single element. Did you call find_all() when you meant to call find()?"
     ]
    }
   ],
   "source": [
    "# find_all()に対してテキスト取得してみる\n",
    "soup.find_all('h2').text"
   ]
  },
  {
   "cell_type": "markdown",
   "metadata": {},
   "source": [
    "このように「`text`は持っていない」というエラーが発生しました。\n",
    "\n",
    "さらにエラーを読み進めてみると、`find()`を使おうとして`find_all()`を使ってしまったのかい？みたいなニュアンスで、少し小バカにされます。\n",
    "\n",
    "<br>\n",
    "\n",
    "なぜ`find_all()`で`.text`を使えないのかというと、それはリストの形になっているからですね。\n",
    "\n",
    "なので「`find_all()`で取得したリストからテキストだけ取得したい」と思ったら、以下のようにforループを使って取り出してあげる必要があります。"
   ]
  },
  {
   "cell_type": "code",
   "execution_count": 11,
   "metadata": {},
   "outputs": [
    {
     "name": "stdout",
     "output_type": "stream",
     "text": [
      "0 Get Started\n",
      "1 Download\n",
      "2 Docs\n",
      "3 Jobs\n",
      "4 Latest News\n",
      "5 Upcoming Events\n",
      "6 Success Stories\n",
      "7 Use Python for…\n",
      "8 \n",
      ">>> Python Enhancement Proposals (PEPs): The future of Python is discussed here.\n",
      " RSS\n",
      "\n",
      "9 \n",
      ">>> Python Software Foundation\n",
      "\n"
     ]
    }
   ],
   "source": [
    "# forループを使って、中身のテキストを確認する\n",
    "for i, h2_tag in enumerate(soup.find_all('h2')):\n",
    "    print(i, h2_tag.text)"
   ]
  },
  {
   "cell_type": "markdown",
   "metadata": {},
   "source": [
    "このようにすれば、中身のテキストを表示できます。\n",
    "\n",
    "また`find_all()`で取得したように、リストの形でテキストを取得しておきたい場合には、以下のように書いてあげればOKです。"
   ]
  },
  {
   "cell_type": "code",
   "execution_count": 12,
   "metadata": {},
   "outputs": [],
   "source": [
    "# find_all()で取得したh2からテキストだけ取得してh2_text_listに格納\n",
    "h2_list = []\n",
    "# forループを使って、中身のテキストを確認する\n",
    "for i, h2_tag in enumerate(soup.find_all('h2')):\n",
    "    h2_list.append(h2_tag.text)\n"
   ]
  },
  {
   "cell_type": "markdown",
   "metadata": {},
   "source": [
    "実際に中身を確認してみましょう"
   ]
  },
  {
   "cell_type": "code",
   "execution_count": 13,
   "metadata": {},
   "outputs": [
    {
     "data": {
      "text/plain": [
       "['Get Started',\n",
       " 'Download',\n",
       " 'Docs',\n",
       " 'Jobs',\n",
       " 'Latest News',\n",
       " 'Upcoming Events',\n",
       " 'Success Stories',\n",
       " 'Use Python for…',\n",
       " '\\n>>> Python Enhancement Proposals (PEPs): The future of Python is discussed here.\\n RSS\\n',\n",
       " '\\n>>> Python Software Foundation\\n']"
      ]
     },
     "execution_count": 13,
     "metadata": {},
     "output_type": "execute_result"
    }
   ],
   "source": [
    "# h2_text_listの中身を確認する\n",
    "h2_list"
   ]
  },
  {
   "cell_type": "markdown",
   "metadata": {},
   "source": [
    "これでテキスト情報をすべて取得できるようになりました。\n",
    "\n",
    "*※可能であればリスト内包表記で書いてあげると良いですね!!*\n",
    "\n",
    "<br>\n",
    "\n",
    "これまでに習得した知識を整理すると、以下のようになっています。\n",
    "\n",
    "- 指定したタグから1つだけ要素を取り出す : `soup.find('タグ')`\n",
    "  - テキストを取り出す : `soup.find('タグ').text`\n",
    "- 指定したタグから複数の要素を取り出す : `soup.find_all('タグ')`\n",
    "  - テキストを取り出す : forループを使ってあげる\n",
    "\n",
    "\n",
    "これで指定したタグに対して、自由に情報を取得できるようになりました。\n",
    "\n",
    "ただ、今のままだと「複数の中から、特定のタグだけ取り出す」といった、痒い所に手が届かない状況になっています。\n",
    "\n",
    "<br>\n",
    "\n",
    "例えば「`<span>`タグの中から、`class=prompt`を取り出す」といった操作ですね。\n",
    "\n",
    "<br>\n",
    "\n",
    "というわけで、次回の講義では「複数の同じタグから、特定のクラスが付与されたものだけ取り出す」という処理を学んでいきたいと思います。\n",
    "\n",
    "少しずつややこしくなってくるかと思いますので、ぜひこちらのNotebookと、できればYouTube動画を観て復習していただければと思います！"
   ]
  },
  {
   "cell_type": "code",
   "execution_count": null,
   "metadata": {},
   "outputs": [],
   "source": []
  }
 ],
 "metadata": {
  "kernelspec": {
   "display_name": "Python 3 (ipykernel)",
   "language": "python",
   "name": "python3"
  },
  "language_info": {
   "codemirror_mode": {
    "name": "ipython",
    "version": 3
   },
   "file_extension": ".py",
   "mimetype": "text/x-python",
   "name": "python",
   "nbconvert_exporter": "python",
   "pygments_lexer": "ipython3",
   "version": "3.8.12"
  },
  "toc": {
   "base_numbering": 1,
   "nav_menu": {},
   "number_sections": true,
   "sideBar": true,
   "skip_h1_title": false,
   "title_cell": "Table of Contents",
   "title_sidebar": "Contents",
   "toc_cell": false,
   "toc_position": {},
   "toc_section_display": true,
   "toc_window_display": true
  }
 },
 "nbformat": 4,
 "nbformat_minor": 4
}
