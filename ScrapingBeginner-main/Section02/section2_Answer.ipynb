{
 "cells": [
  {
   "cell_type": "markdown",
   "metadata": {},
   "source": [
    "# 【第2回】Requestsライブラリの使い方\n",
    "\n",
    "今回は、Pythonを使ったスクレイピング入門で必要になる、`Requests`ライブラリの使い方を習得していきたいと思います。\n",
    "\n",
    "*※動画の感想を、僕のTwitterにメンションしてツイートしていただけると嬉しいです（ ;  ; ）！*\n",
    "\n",
    "Twitter : [@hayatasuuu](https://twitter.com/hayatasuuu)\n",
    "\n",
    "## スクレイピングの流れ\n",
    "\n",
    "そもそも、Pythonを使ってスクレイピングするには、以下のステップが必要になります。\n",
    "\n",
    "1. RequestsでHTMLを取得する\n",
    "2. 取得したHTMLを解析する(BeautifulSoup)\n",
    "3. 自分が欲しい情報を取得する\n",
    "\n",
    "つまり、`Requests`ライブラリを習得しないと、Pythonを使ったスクレイピングが始まらないわけです。\n",
    "\n",
    "<br>\n",
    "\n",
    "いきなりスクレイピングと言いたいところですが、まずは`Requests`ライブラリの習得からしていきましょう。\n",
    "\n",
    "## Requestsライブラリとは？\n",
    "\n",
    "`Requests`は、PythonでHTTP通信をするためのライブラリです。\n",
    "\n",
    "[»公式ページ : Requests: 人間のためのHTTP — requests-docs-ja 1.0.4 documentation](https://requests-docs-ja.readthedocs.io/en/latest/)\n",
    "\n",
    "<br>\n",
    "\n",
    "ただ今回はHTTPとか難しいことを考えず、以下のことができるライブラリだと考えておきましょう。\n",
    "\n",
    "- URLにアクセスするときに必要になるライブラリ\n",
    "- Webページの情報(HTML)を取得できるライブラリ\n",
    "- APIにアクセスできるライブラリ\n",
    "\n",
    "\n",
    "*※APIについては、この講義シリーズで紹介していきます！*\n",
    "\n",
    "<br>\n",
    "\n",
    "まずはこれくらいの認識で十分です！\n",
    "\n",
    "またPythonでは、ほとんど同じことができる`urllib`というライブラリがあります。\n",
    "\n",
    "<br>\n",
    "\n",
    "本によっては、HTMLを取得する部分で`urllib`が使われていますが、今回は「より簡潔に書きたい」という目的があるので、`Requests`ライブラリを使っていきましょう。\n",
    "\n",
    "*※`Requests`は外部の(pip install しないといけない)ライブラリなので、pip installが使えない、もしくは外部ライブラリを使いたくない場合は、`urllib`が良いです。*\n"
   ]
  },
  {
   "cell_type": "markdown",
   "metadata": {},
   "source": [
    "# Pythonを使ってHTML情報を取得する\n",
    "\n",
    "さっそくRequestsライブラリを使って、HTML情報を取得してみましょう。\n",
    "\n",
    "今回は[Pythonの公式ページ](https://www.python.org/)を使って、HTMLの情報を取得する練習をしていきたいと思います。"
   ]
  },
  {
   "cell_type": "markdown",
   "metadata": {},
   "source": [
    "## ライブラリのインポート\n",
    "\n",
    "Anacondaを使っている場合は、最初からRequestsライブラリが入っているはずです。Python単体を使っている場合には、下記コマンドにてライブラリのインストールをしていきましょう。"
   ]
  },
  {
   "cell_type": "code",
   "execution_count": null,
   "metadata": {},
   "outputs": [],
   "source": [
    "# ! pip install requests"
   ]
  },
  {
   "cell_type": "markdown",
   "metadata": {},
   "source": [
    "Anacondaを使っている場合は、以下のようにライブラリのインポートから開始すれば大丈夫です！"
   ]
  },
  {
   "cell_type": "code",
   "execution_count": null,
   "metadata": {},
   "outputs": [],
   "source": [
    "import requests"
   ]
  },
  {
   "cell_type": "markdown",
   "metadata": {},
   "source": [
    "これで準備が完了しました。それでは、Pythonの公式ページへアクセスしてみましょう。"
   ]
  },
  {
   "cell_type": "markdown",
   "metadata": {},
   "source": [
    "## Python公式ページへアクセス\n",
    "\n",
    "Pythonの公式ページURLは、以下になっています。\n",
    "\n",
    "https://www.python.org/\n",
    "\n",
    "<br>\n",
    "\n",
    "こちらにアクセスしていくのですが、その方法はとっても簡単で、以下のように書いてあげるだけです。\n",
    "\n",
    "*※Pythonを使ってネットワーク通信をしているので、PCがネットに繋がっている必要があります。*\n",
    "\n"
   ]
  },
  {
   "cell_type": "code",
   "execution_count": null,
   "metadata": {},
   "outputs": [],
   "source": [
    "# 変数urlに、Python公式ページのURLを代入する\n",
    "url = 'https://www.python.org/'\n",
    "\n",
    "# 変数rにリクエスト結果を代入する\n",
    "r = requests.get(url)"
   ]
  },
  {
   "cell_type": "markdown",
   "metadata": {},
   "source": [
    "ここでやっていることは、以下のとおりです。\n",
    "\n",
    "1. 変数`url`にPython公式ページのURLを文字列で格納してあげる\n",
    "2. `requests.get()`を使って、Python公式ページにアクセス\n",
    "3. 変数`r`にアクセスした結果を保存する\n",
    "\n",
    "変数`r`については、本とか他の教材だと`response`とか`res`が多いと思います。\n",
    "\n",
    "僕は普段からのクセで`r`を使っていますが、分かりにくかったら`res`とかでも大丈夫です。\n",
    "\n",
    "<br>\n",
    "\n",
    "やっていること自体は、かなりシンプルですよね。しかも分かりやすい！\n",
    "\n",
    "あとはプロパティ(`r.〇〇`)で変数`r`から欲しい情報を取得してあげるだけです。\n",
    "\n"
   ]
  },
  {
   "cell_type": "markdown",
   "metadata": {},
   "source": [
    "### アクセスしたURLを確認\n",
    "\n",
    "アクセスしたURLを確認したいときは、`r.url`を使ってあげます。"
   ]
  },
  {
   "cell_type": "code",
   "execution_count": null,
   "metadata": {},
   "outputs": [],
   "source": [
    "# リクエストしたときのURLを確認する\n",
    "print(r.url)"
   ]
  },
  {
   "cell_type": "markdown",
   "metadata": {},
   "source": [
    "ちゃんとPythonの公式ページURLが取得できていますね！(*そりゃ自分でアクセスしたんだから当たり前だろ！と言われそうですが...*)"
   ]
  },
  {
   "cell_type": "markdown",
   "metadata": {},
   "source": [
    "### ステータスコードを確認\n",
    "\n",
    "たまにホームページを開いたとき、`403`と表示されることはありませんか？\n",
    "\n",
    "その`403`とかを**ステータスコード**と言います。\n",
    "\n",
    "<br>\n",
    "\n",
    "requestsもネットワーク通信しているため、`r.status_code`を使えばステータスコードを確認できます。"
   ]
  },
  {
   "cell_type": "code",
   "execution_count": null,
   "metadata": {},
   "outputs": [],
   "source": [
    "# リクエストしたときのステータスコードを確認する\n",
    "print(r.status_code)"
   ]
  },
  {
   "cell_type": "markdown",
   "metadata": {},
   "source": [
    "今回は200が表示されました。これは「アクセスに成功した」ということになります。\n",
    "\n",
    "逆にエラーになったときは、400〜499の数字だったり、500〜599の数字が返ってきます。\n",
    "\n",
    "この2つの違いは、以下のとおりです。\n",
    "\n",
    "- 400-499 : クライアント側のエラー(つまり、アクセスしようとしている人に問題があります)\n",
    "- 500-599 : サーバー側のエラー(つまり、アクセス先に問題があります)\n",
    "\n",
    "<br>\n",
    "\n",
    "ステータスコードは、例えば以下のような使い方をします。"
   ]
  },
  {
   "cell_type": "code",
   "execution_count": null,
   "metadata": {},
   "outputs": [],
   "source": [
    "if r.status_code == 200:\n",
    "    print('アクセスに成功したときの処理')\n",
    "else:\n",
    "    raise"
   ]
  },
  {
   "cell_type": "markdown",
   "metadata": {},
   "source": [
    "これは「アクセスに成功したら`print()`関数を実行して、それ以外だったら`raise`で意図的にエラーを返す」という意味です。\n",
    "\n",
    "もちろん`raise`の部分はエラーを発生させなくても、ログを出力するだけでもOKです。"
   ]
  },
  {
   "cell_type": "markdown",
   "metadata": {},
   "source": [
    "### リクエスト結果の取得\n",
    "\n",
    "Python公式ページの情報を取得するためには、`r.text`を使ってあげます。"
   ]
  },
  {
   "cell_type": "code",
   "execution_count": null,
   "metadata": {},
   "outputs": [],
   "source": [
    "# リクエスト結果の取得\n",
    "print(r.text)"
   ]
  },
  {
   "cell_type": "markdown",
   "metadata": {},
   "source": [
    "そうすると、莫大な量の文字列が出力されるかと思います。\n",
    "\n",
    "これは何かというと、**Python公式ページのHTML**です。\n",
    "\n",
    "つまり「スクレイピングに必要なデータを、Web上から取得できた」ということになります。\n",
    "\n",
    "<br>\n",
    "\n",
    "スクレイピングに必要な手順を思い返すと、以下のようになっていました。\n",
    "\n",
    "1. RequestsでHTMLを取得する\n",
    "2. 取得したHTMLを解析する(BeautifulSoup)\n",
    "3. 自分が欲しい情報を取得する\n",
    "\n",
    "`r.text`を使うことで、スクレイピングで必要な手順①が完了したということになります。\n",
    "\n",
    "<br>\n",
    "\n",
    "ただ、現状だとHTMLを取得しただけで、必要な情報を取り出すことが難しいです。\n",
    "\n",
    "たとえば、「`Get Started`や`Download`などの文字列を取得したい」と思ったとき、まずは\"Pythonで簡単に取り扱える状態にする\"必要があります。\n",
    "\n",
    "<br>\n",
    "\n",
    "そのために行うのがHTMLの解析で、PythonでHTMLを解析するためには`BeautifulSoup`というライブラリが必要になります。\n",
    "\n",
    "というわけで、次回は`BeautifulSoup`も組み合わせることで、自分が取得したいデータをゲットしていきましょう！"
   ]
  }
 ],
 "metadata": {
  "kernelspec": {
   "display_name": "Python 3",
   "language": "python",
   "name": "python3"
  },
  "language_info": {
   "codemirror_mode": {
    "name": "ipython",
    "version": 3
   },
   "file_extension": ".py",
   "mimetype": "text/x-python",
   "name": "python",
   "nbconvert_exporter": "python",
   "pygments_lexer": "ipython3",
   "version": "3.7.3"
  },
  "toc": {
   "base_numbering": 1,
   "nav_menu": {},
   "number_sections": true,
   "sideBar": true,
   "skip_h1_title": false,
   "title_cell": "Table of Contents",
   "title_sidebar": "Contents",
   "toc_cell": false,
   "toc_position": {},
   "toc_section_display": true,
   "toc_window_display": true
  }
 },
 "nbformat": 4,
 "nbformat_minor": 2
}
