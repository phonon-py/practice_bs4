{
 "cells": [
  {
   "cell_type": "markdown",
   "metadata": {},
   "source": [
    "# 【第7回】不動産ページから情報取得する②\n",
    "\n",
    "前回の第6回目では、SUUMOのホームページから、物件情報だけ取得しました。\n",
    "\n",
    "\n",
    "今回は、物件情報だけでなく、各部屋の情報まで取得していきたいと思います。\n",
    "\n",
    "*※前回と同様に、少し複雑になってきます。なので、何回も動画を見て復習していただけると良いかなと思います！*\n",
    "\n",
    "\n",
    "<br>\n",
    "\n",
    "なお、前回使ったソースコードは、そのまま使っていきたいので、以下に残してあります。\n",
    "\n",
    "これらを実行してから、今回の内容に入っていきましょう！\n",
    "\n",
    "*※動画の感想を、僕のTwitterにメンションしてツイートしていただけると嬉しいです（ ;  ; ）！*\n",
    "\n",
    "Twitter : [@hayatasuuu](https://twitter.com/hayatasuuu)"
   ]
  },
  {
   "cell_type": "markdown",
   "metadata": {},
   "source": [
    "# まずは小さく情報取得してみる\n",
    "\n",
    "スクレイピングで情報取得するとき、forループを使って繰り返し処理をすることが多いです。\n",
    "\n",
    "でもまずは、forループを使わないでデータを取ってみましょう！\n",
    "\n",
    "- 小さく情報取得してみる\n",
    "- 大丈夫そうだったらforループする\n",
    "\n",
    "この手順で進めていこうと思います。"
   ]
  },
  {
   "cell_type": "markdown",
   "metadata": {},
   "source": [
    "## ライブラリのインポート\n",
    "\n",
    "まずは、ライブラリのインポートからやっていきます。\n",
    "\n",
    "とは言っても、いつもとやることは変わりません。`Requests`と`BeautifulSoup`をインポートしていきましょう。"
   ]
  },
  {
   "cell_type": "code",
   "execution_count": null,
   "metadata": {},
   "outputs": [],
   "source": [
    "from bs4 import BeautifulSoup\n",
    "import requests"
   ]
  },
  {
   "cell_type": "markdown",
   "metadata": {},
   "source": [
    "## RequestsでURLにアクセスしてHTMLを解析する\n",
    "\n",
    "次に`Requests`を使ってURLにアクセスし、HTMLを取得して解析していきます。\n",
    "\n",
    "URLは`https://suumo.jp/chintai/tokyo/sc_shinjuku/`ですが、今回は以下のように書いておきたいと思います。"
   ]
  },
  {
   "cell_type": "code",
   "execution_count": null,
   "metadata": {},
   "outputs": [],
   "source": [
    "# 変数urlにSUUMOホームページのURLを格納する\n",
    "url = 'https://suumo.jp/chintai/tokyo/sc_shinjuku/?page={}'\n",
    "\n",
    "# アクセスするためのURLをtarget_urlに格納する\n",
    "target_url = url.format(1)\n",
    "\n",
    "# print()してtarget_urlを確認する\n",
    "print(target_url)"
   ]
  },
  {
   "cell_type": "markdown",
   "metadata": {},
   "source": [
    "このように、`?page={]`を付けて、あとから`format`を使ってURLを作成しました。\n",
    "\n",
    "最初から`url = 'https://suumo.jp/chintai/tokyo/sc_shinjuku/?page=1'`のように書かない理由は、2ページ目以降にアクセスするとき、forループを使っていくためです。\n",
    "\n",
    "<br>\n",
    "\n",
    "\n",
    "というのも、2ページ目のURLは`https://suumo.jp/chintai/tokyo/sc_shinjuku/?page=2`になっています。\n",
    "\n",
    "それ以降のページに関しても`?page=3`のように、数字が変更されるだけです。\n",
    "\n",
    "<br>\n",
    "\n",
    "数字だけ変更すれば使い回しできるってわけですね。\n",
    "\n",
    "今回はまだforループを使わないでデータを取っていきますので、この`target_url`にアクセスしていきましょう。"
   ]
  },
  {
   "cell_type": "code",
   "execution_count": null,
   "metadata": {},
   "outputs": [],
   "source": [
    "# target_urlへのアクセス結果を、変数rに格納\n",
    "r = requests.get(target_url)\n",
    "\n",
    "# 取得結果を解析してsoupに格納\n",
    "soup = BeautifulSoup(r.text)"
   ]
  },
  {
   "cell_type": "markdown",
   "metadata": {},
   "source": [
    "この部分はいつもどおりですね。\n",
    "\n",
    "あとは`soup`に対して`find()`や`find_all()`を使って情報を取得するだけです！"
   ]
  },
  {
   "cell_type": "markdown",
   "metadata": {},
   "source": [
    "## soupから情報を抽出する\n",
    "\n",
    "まずは、各賃貸情報がどのような形で格納されているか確認しましょう。\n",
    "\n",
    "Webページで「検証」を開くと、HTMLの構造を閲覧できます。\n",
    "\n",
    "<br>\n",
    "\n",
    "HTMLを確認すると、それぞれの賃貸情報は`div`タグの`cassetteitem`に格納されていることが分かります。\n",
    "\n",
    "まずは各賃貸情報をすべて取得して、その後でそれぞれのブロックから情報を抽出するようにしましょう。\n",
    "\n",
    "すべてのタグ情報をクラス付きで指定する方法は、前回やった`find_all(タグ名, class_='')`ですね！"
   ]
  },
  {
   "cell_type": "code",
   "execution_count": null,
   "metadata": {},
   "outputs": [],
   "source": [
    "# cassetteクラスを持ったdivタグをすべて取得して、変数contentsに格納\n",
    "contents = soup.find_all('div', class_='cassetteitem')"
   ]
  },
  {
   "cell_type": "markdown",
   "metadata": {},
   "source": [
    "これで、`cassette`を持つすべての`div`タグを取得できました。\n",
    "\n",
    "SUUMOのページでは、デフォルトで1ページあたり20件の賃貸情報が掲載されているようです。\n",
    "\n",
    "`find_all()`で取得した結果は、Pythonリスト形式になっているので、`len()`を使えば中身の要素数を確認できます。"
   ]
  },
  {
   "cell_type": "code",
   "execution_count": null,
   "metadata": {},
   "outputs": [],
   "source": [
    "# 変数contentsの中身を確認する\n",
    "len(contents)"
   ]
  },
  {
   "cell_type": "markdown",
   "metadata": {},
   "source": [
    "ちゃんと賃貸情報のブロックを取得できていますね。\n",
    "\n",
    "いまはforループを使わないでコード作成したいので、変数`content`の中に最初の要素を格納しておきましょう。"
   ]
  },
  {
   "cell_type": "code",
   "execution_count": null,
   "metadata": {},
   "outputs": [],
   "source": [
    "# 変数contentにcontentsの最初の要素を格納する\n",
    "content = contents[0]"
   ]
  },
  {
   "cell_type": "markdown",
   "metadata": {},
   "source": [
    "あとは、最初のブロックに入っている賃貸情報から、自分が欲しい情報を取得していくだけです。\n",
    "\n",
    "このページからは色々な情報を抽出できますが、今回は以下の項目を取得したいと思います。\n",
    "\n",
    "- 物件情報\n",
    "  - 物件名\n",
    "  - 住所\n",
    "  - アクセス\n",
    "  - 築年数\n",
    "- 部屋情報\n",
    "  - 物件の階数\n",
    "  - 物件の賃料/管理費\n",
    "  - 物件の敷金・礼金\n",
    "  - 物件の間取り・面積"
   ]
  },
  {
   "cell_type": "markdown",
   "metadata": {},
   "source": [
    "### 物件情報と部屋情報が入ったブロックを取得する\n",
    "\n",
    "賃貸情報のブロックを確認すると、「物件・建物の情報」と「各部屋の情報」で格納されているタグが、別になっていることが分かります。\n",
    "\n",
    "あとで詳細情報を取り出しやすいように、それぞれの情報を変数に格納しておきましょう。"
   ]
  },
  {
   "cell_type": "code",
   "execution_count": null,
   "metadata": {},
   "outputs": [],
   "source": [
    "# 物件・建物情報を変数detailに格納する\n",
    "detail = content.find('div', class_='cassetteitem_content')\n",
    "\n",
    "# 各部屋の情報を変数tableに格納する\n",
    "table = content.find('table', class_='cassetteitem_other')"
   ]
  },
  {
   "cell_type": "markdown",
   "metadata": {},
   "source": [
    "こうしておくと、毎回`find()`以降を書かずに済みます。"
   ]
  },
  {
   "cell_type": "markdown",
   "metadata": {},
   "source": [
    "### 物件情報を抽出する\n",
    "\n",
    "ということで、まずは物件情報を取得していきましょう。\n",
    "\n",
    "物件情報で取得できるのは、以下の部分です。\n",
    "\n",
    "- 物件名\n",
    "- 住所\n",
    "- アクセス\n",
    "- 築年数\n",
    "\n",
    "これらの情報を取得するには、SUUMOのホームページで「検証」をクリックして、どこのタグに格納されているのか確認する必要があります。\n",
    "\n",
    "<br>\n",
    "\n",
    "どのタグに格納されているのか確認できたら、取得結果を変数に格納してあげましょう。"
   ]
  },
  {
   "cell_type": "code",
   "execution_count": null,
   "metadata": {},
   "outputs": [],
   "source": [
    "# 変数titleに、物件名を格納する\n",
    "title = detail.find('div', class_='cassetteitem_content-title').text\n",
    "\n",
    "# 変数addressに住所を格納する\n",
    "address = detail.find('li', class_='cassetteitem_detail-col1').text\n",
    "\n",
    "# 変数accessにアクセス情報を格納する\n",
    "access = detail.find('li', class_='cassetteitem_detail-col2').text\n",
    "\n",
    "# 変数ageに築年数を格納する\n",
    "age = detail.find('li', class_='cassetteitem_detail-col3').text"
   ]
  },
  {
   "cell_type": "markdown",
   "metadata": {},
   "source": [
    "取得結果を格納できたら、実際に中身を見てみましょう。"
   ]
  },
  {
   "cell_type": "code",
   "execution_count": null,
   "metadata": {},
   "outputs": [],
   "source": [
    "# 各変数の取得結果を確認\n",
    "title, address, access, age"
   ]
  },
  {
   "cell_type": "markdown",
   "metadata": {},
   "source": [
    "しっかりと中身を取得できていますね！\n",
    "\n",
    "*※途中で改行記号(`\\n`)などが入っていますが、それらは無視して大丈夫です。*\n"
   ]
  },
  {
   "cell_type": "markdown",
   "metadata": {},
   "source": [
    "### 部屋情報を抽出する\n",
    "\n",
    "次は各部屋の情報を取得していきましょう。\n",
    "\n",
    "変数`table`に格納しておいたHTMLの解析結果から、以下の情報を取得していきたいと思います。\n",
    "\n",
    "- 物件の階数\n",
    "- 物件の賃料/管理費\n",
    "- 物件の敷金・礼金\n",
    "- 物件の間取り・面積\n",
    "\n",
    "各部屋の情報は`<table>`タグに囲まれているので、`<tr>`を見てあげると1つの部屋情報になっているはずです。\n",
    "\n",
    "*※`<tr>`はtable rowの省略で、`<table>`タグの行(横一列)のことです。SUUMOのページを見ると、1つ1つの部屋情報は、横1列に並んでいるかと思います。*\n",
    "\n",
    "なので、テーブルから部屋情報を抽出するときは、複数の`<tr>`タグを見てあげる必要があります。\n",
    "\n",
    "<br>\n",
    "\n",
    "複数の`<tr>`タグを抽出するには...。そうです、`find_all()`を使って取得していきます。\n",
    "\n",
    "さらに習得した結果はリストになっていますので、今回は最初の1つ(=インデックス番号0)だけ取得してみましょう。"
   ]
  },
  {
   "cell_type": "code",
   "execution_count": null,
   "metadata": {},
   "outputs": [],
   "source": [
    "# 変数tableからすべてのtrタグを取得して、変数tr_tagsに格納\n",
    "tr_tags = table.find_all('tr', class_='js-cassette_link')\n",
    "\n",
    "# tr_targsの中から最初の1つだけtr_tagに格納\n",
    "tr_tag = tr_tags[0]"
   ]
  },
  {
   "cell_type": "markdown",
   "metadata": {},
   "source": [
    "これで、複数の部屋情報から、1つの部屋情報だけ取得できました。\n",
    "\n",
    "あとは、変数`tr_tag`から以下4つの情報を取得するだけです。\n",
    "\n",
    "- 物件の階数\n",
    "- 物件の賃料/管理費\n",
    "- 物件の敷金・礼金\n",
    "- 物件の間取り・面積"
   ]
  },
  {
   "cell_type": "markdown",
   "metadata": {},
   "source": [
    "<hr>\n",
    "\n",
    "▼▽▼▽▼▽▼▽第7回目▼▽▼▽▼▽▼▽\n",
    "\n",
    "<hr>"
   ]
  },
  {
   "cell_type": "markdown",
   "metadata": {},
   "source": [
    "### 演習\n",
    "\n",
    "変数`tr_tag`から、以下の情報を取得してみましょう。\n",
    "\n",
    "- 物件の階数\n",
    "- 物件の賃料/管理費\n",
    "- 物件の敷金・礼金\n",
    "- 物件の間取り・面積\n",
    "\n",
    "*※参考程度に、僕の方で作成してある答えは、1行で書けるコードになっています！*"
   ]
  },
  {
   "cell_type": "markdown",
   "metadata": {},
   "source": [
    "#### 答え合わせ\n",
    "\n",
    "それでは`<tr>`から、各部屋の情報を取得していきましょう。\n",
    "\n",
    "まずはSUUMOのホームページで、以下の4つがどのタグに格納されているのか、確認する必要があります。\n",
    "\n",
    "https://suumo.jp/chintai/tokyo/sc_shinjuku/\n",
    "\n",
    "`<tr>`の中身を確認してみると、どうやら9つの`<td>`タグで構成されていることが分かります。\n",
    "\n",
    "このうち、今回取得したい情報は、3番目から6番目の`<td>`タグに格納されていますね。\n",
    "\n",
    "- 物件の階数 : 3番目\n",
    "- 物件の賃料/管理費 : 4番目\n",
    "- 物件の敷金・礼金 : 5番目\n",
    "- 物件の間取り・面積 : 6番目\n",
    "\n",
    "`find_all()`で取得した結果は、Pythonのリスト形式になっていたことを思い出すと、すべての`<td>`タグを取得したあとに、スライスを使ってあげれば1行で欲しい情報を取得できます。"
   ]
  },
  {
   "cell_type": "code",
   "execution_count": 1,
   "metadata": {},
   "outputs": [],
   "source": [
    "# 変数floor, price, first_fee, capacityに4つの情報を格納する\n"
   ]
  },
  {
   "cell_type": "markdown",
   "metadata": {},
   "source": [
    "少し難しいかもしれませんが、ここでやっていることは以下のようになります。\n",
    "\n",
    "```\n",
    "l = [1, 2, 3, 4, 5]\n",
    "a, b = l[2:4]\n",
    "print(a, b) # --> 3, 4\n",
    "```\n",
    "\n",
    "このように複数の変数を左側に準備しておくと、該当する場所に各数字(今回だと3と4)を格納してくれます。\n",
    "\n",
    "<br>\n",
    "\n",
    "実際に、部屋情報もそれぞれの変数に格納できているか確認してみましょう。"
   ]
  },
  {
   "cell_type": "code",
   "execution_count": 2,
   "metadata": {},
   "outputs": [],
   "source": [
    "# floor, price, first_fee, capacityの中身を確認する\n"
   ]
  },
  {
   "cell_type": "markdown",
   "metadata": {},
   "source": [
    "出力を見てみると、目的としていた情報を取得できていますね。\n",
    "\n",
    "<br>\n",
    "\n",
    "さらに、部屋の階数(`floor`)以外の部分は、さらに2つの`<li>`タグに格納されていることが分かります。\n",
    "\n",
    "なぜかというと、それぞれの変数には以下の項目が格納されているからです。\n",
    "\n",
    "- price : 「賃料」と「管理費」\n",
    "- first_fee : 「敷金」と「礼金」\n",
    "- capacity : 「間取り」と「専有面積」\n",
    "\n",
    "これらの複数入っている要素をバラバラにしたいので、さらに`find_all()`を使って情報の抽出をおこなっていきましょう。"
   ]
  },
  {
   "cell_type": "code",
   "execution_count": null,
   "metadata": {},
   "outputs": [],
   "source": [
    "# 変数feeとmanagement_feeに、賃料と管理費を格納する\n",
    "\n",
    "\n",
    "# 変数depositとgratuityに、敷金と礼金を格納する\n",
    "\n",
    "\n",
    "# 変数madoriとmensekiに、間取りと面積を格納する\n"
   ]
  },
  {
   "cell_type": "markdown",
   "metadata": {},
   "source": [
    "それぞれの変数に分割できたら、中身を確認しておきます。"
   ]
  },
  {
   "cell_type": "code",
   "execution_count": null,
   "metadata": {},
   "outputs": [],
   "source": [
    "# 変数feeとmanagement_feeを確認する\n",
    "\n",
    "\n",
    "# 変数depositとgratuityを確認する\n",
    "\n",
    "\n",
    "# 変数madoriとmensekiを確認する\n"
   ]
  },
  {
   "cell_type": "markdown",
   "metadata": {},
   "source": [
    "このように、しっかりと目的の情報を取得できていますね。"
   ]
  },
  {
   "cell_type": "markdown",
   "metadata": {},
   "source": [
    "### 取得した情報を辞書に格納する\n",
    "\n",
    "それでは、これまで取得した以下の項目を、辞書を使って保存しておきましょう。\n",
    "\n",
    "- title : 物件の名前\n",
    "- address : 住所\n",
    "- access : アクセス\n",
    "- age : 築年数\n",
    "- floor : 部屋の階数\n",
    "- fee : 部屋の賃料\n",
    "- management_fee : 管理費\n",
    "- deposit : 敷金\n",
    "- gratuity : 礼金\n",
    "- madori : 間取り\n",
    "- menseki : 専有面積\n",
    "\n",
    "*※「なぜ辞書を使うのか」は、あとでデータを扱いやすくするためです。*\n",
    "\n",
    "なお、辞書に格納するときは、タグ情報を外して中身のテキストだけ取得するようにしましょう。\n",
    "\n",
    "`title`、`address`、`access`、`age`はテキスト情報だけになっていたので、残りは`.text`をつけて格納してあげます。"
   ]
  },
  {
   "cell_type": "code",
   "execution_count": null,
   "metadata": {},
   "outputs": [],
   "source": [
    "# 変数dに、これまで取得した11項目を格納する\n"
   ]
  },
  {
   "cell_type": "markdown",
   "metadata": {},
   "source": [
    "辞書を使って情報を格納できたら、中身を確認してみましょう。"
   ]
  },
  {
   "cell_type": "code",
   "execution_count": null,
   "metadata": {},
   "outputs": [],
   "source": [
    "# 変数dの中身を確認する\n"
   ]
  },
  {
   "cell_type": "markdown",
   "metadata": {},
   "source": [
    "中身を確認すると、「1ページ目」の「最初の物件」の「最初の部屋」を取得できているはずです。\n",
    "\n",
    "あとは、今まで`contents[0]`のように書いておいた部分でforループを使ってあげれば、すべての情報を取得できるようになります。"
   ]
  },
  {
   "cell_type": "markdown",
   "metadata": {},
   "source": [
    "# 1ページ目からすべての情報を取得する\n",
    "\n",
    "今回のプログラム作成では、以下の手順を踏んでいました。\n",
    "\n",
    "- 小さく情報取得してみる\n",
    "- 大丈夫そうだったらforループする\n",
    "\n",
    "このうち、小さく情報取得してみる部分が完了したので、forループを使って総仕上げしていきたいと思います！\n",
    "\n",
    "<br>\n",
    "\n",
    "基本的には、今まで書いていたコードをコピペしていき、仮決めで`contents[0]`のようにしていた部分でforループを使っていくだけです。\n",
    "\n",
    "ただし！forループを使っていきますので、それぞれの部屋情報を格納できるように、変数`d_list`という名前でリストを準備しておきましょう。\n",
    "\n",
    "<br>\n",
    "\n",
    "アクセスはすでに完了しているので、`soup`から情報取得する部分から書いていけば良いと思います。"
   ]
  },
  {
   "cell_type": "code",
   "execution_count": null,
   "metadata": {},
   "outputs": [],
   "source": [
    "# 変数d_listに空のリストを作成する\n",
    "\n",
    "\n",
    "# すべての物件情報(20件)を取得する\n",
    "\n",
    "\n",
    "\n",
    "# 各物件情報をforループで取得する\n",
    "\n",
    "\n",
    "    # 物件情報と部屋情報を取得しておく\n",
    "    \n",
    "    # 物件情報から必要な情報を取得する\n",
    "\n",
    "    # 部屋情報のブロックから、各部屋情報を取得する\n",
    "    \n",
    "    # 各部屋情報をforループで取得する\n",
    "        \n",
    "        # 部屋情報の行から、欲しい情報を取得する\n",
    "        \n",
    "        # さらに細かい情報を取得する\n",
    "\n",
    "        # 取得したすべての情報を辞書に格納する\n",
    "        \n",
    "        # 取得した辞書をd_listに格納する\n"
   ]
  },
  {
   "cell_type": "markdown",
   "metadata": {},
   "source": [
    "これで、1ページ目のすべての物件情報を取得するコードを作成できました。\n",
    "\n",
    "変数`d_list`のインデックス0やインデックス1を見てみると、最初の物件に入っている2つの部屋情報を取得できているかと思います。\n",
    "\n",
    "<br>\n",
    "\n",
    "なお、普通に`print()`を使うと、辞書が見辛い形になってしまいます。\n",
    "\n",
    "こういった場合に、体裁を綺麗にしたまま表示できる`pprint`を使ってあげると便利です。"
   ]
  },
  {
   "cell_type": "code",
   "execution_count": null,
   "metadata": {},
   "outputs": [],
   "source": [
    "# pprintをインポートする\n"
   ]
  },
  {
   "cell_type": "code",
   "execution_count": null,
   "metadata": {},
   "outputs": [],
   "source": [
    "# d_listに入っているインデックスの0番目と1番目を確認する\n"
   ]
  },
  {
   "cell_type": "markdown",
   "metadata": {},
   "source": [
    "出力結果を見てみると、しっかりと情報抽出できていますね！\n",
    "\n",
    "これで、1ページ目に入っているすべての物件情報を取得できました。\n",
    "\n",
    "ここまで学習したことを使っていくと、JavaScriptが使われていないWebページであれば、自由自在に情報抽出できるようになっているはずです。\n",
    "\n",
    "<br>\n",
    "\n",
    "あとは、現状1ページ目しか取得していなかった部分を、複数ページで取得できるようにできると良いですね！\n",
    "\n",
    "ということで、次回は1ページ目だけではなく、複数ページも取得できるようにしたいと思います。\n",
    "\n",
    "<br>\n",
    "\n",
    "複数ページを取得するときは、1つ注意点がありますので、次回の動画もしっかり見ていただけると嬉しいです。\n",
    "\n",
    "また、少しずつ難しくなっていると思いますので、動画を見返しつつ復習していただけると良いかなと思います。\n",
    "\n",
    "*※動画をみるのが面倒だったら、配布しているNotebookで復習するのもオススメです！*\n",
    "\n",
    "<br>\n",
    "\n",
    "無料動画とはいえど、ちゃんと役に立つスキルを学べるようにしていきますので、一緒に頑張っていきましょう(｀・ω・´)！"
   ]
  },
  {
   "cell_type": "code",
   "execution_count": null,
   "metadata": {},
   "outputs": [],
   "source": []
  }
 ],
 "metadata": {
  "kernelspec": {
   "display_name": "Python 3",
   "language": "python",
   "name": "python3"
  },
  "language_info": {
   "codemirror_mode": {
    "name": "ipython",
    "version": 3
   },
   "file_extension": ".py",
   "mimetype": "text/x-python",
   "name": "python",
   "nbconvert_exporter": "python",
   "pygments_lexer": "ipython3",
   "version": "3.7.3"
  },
  "toc": {
   "base_numbering": 1,
   "nav_menu": {},
   "number_sections": true,
   "sideBar": true,
   "skip_h1_title": false,
   "title_cell": "Table of Contents",
   "title_sidebar": "Contents",
   "toc_cell": false,
   "toc_position": {
    "height": "calc(100% - 180px)",
    "left": "10px",
    "top": "150px",
    "width": "238.594px"
   },
   "toc_section_display": true,
   "toc_window_display": true
  }
 },
 "nbformat": 4,
 "nbformat_minor": 2
}
