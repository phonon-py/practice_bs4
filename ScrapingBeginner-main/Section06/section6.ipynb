{
 "cells": [
  {
   "cell_type": "markdown",
   "metadata": {},
   "source": [
    "# 【第6回】不動産ページから情報取得する①\n",
    "\n",
    "これまでの講義では、`Requests`と`BeautifulSoup`を使ったスクレイピングの基礎知識を学んできました。\n",
    "\n",
    "今回は集大成ということで、賃貸情報が掲載されているSUUMO(新宿区)のWebサイトから、自分が欲しい情報を抽出していきたいと思います。\n",
    "\n",
    "https://suumo.jp/chintai/tokyo/sc_shinjuku/\n",
    "\n",
    "実際のサイトを使って情報抽出するので少し難しくなります。一度にすべてをマスターしようとせず、何回も動画を見返して習得していきましょう！\n",
    "\n",
    "*※動画の感想を、僕のTwitterにメンションしてツイートしていただけると嬉しいです（ ;  ; ）！*\n",
    "\n",
    "Twitter : [@hayatasuuu](https://twitter.com/hayatasuuu)"
   ]
  },
  {
   "cell_type": "markdown",
   "metadata": {},
   "source": [
    "# スクレイピングが禁止されていないか確認する\n",
    "\n",
    "「さっそくスクレイピング...」と言いたいところですが、まずはスクレイピング可能なサイトなのか確認しておきましょう。\n",
    "\n",
    "*※動画で紹介するくらいなので、今回使っていくSUUMOのサイトはスクレイピングしても問題ありません。でも、応用で他のサイトに対してスクレイピングするとき、役に立つ知識になります。*\n",
    "\n",
    "スクレイピングの可否は、利用規約のページを見ていきましょう。\n",
    "\n",
    "https://suumo.jp/edit/kiyaku/\n",
    "\n",
    "僕は利用規約のページで、以下のキーワードを検索することが多いです。\n",
    "\n",
    "- 自動\n",
    "- ロボット\n",
    "- クローリング\n",
    "- スクレイピング\n",
    "\n",
    "英語のサイトであれば、以下のキーワードになります。\n",
    "\n",
    "- auto\n",
    "- robot\n",
    "- crawling\n",
    "- scraping\n",
    "\n",
    "SUUMOのページでは、これらに該当する事項がありませんので、特に禁止されていません。\n",
    "\n",
    "ただ、ユーザーの禁止事項にもあるとおり、高負荷をかけてしまうと「(6) 本サイトの運営を妨げる行為」に該当しますので注意しましょう。"
   ]
  },
  {
   "cell_type": "markdown",
   "metadata": {},
   "source": [
    "# まずは小さく情報取得してみる\n",
    "\n",
    "スクレイピングで情報取得するとき、forループを使って繰り返し処理をすることが多いです。\n",
    "\n",
    "でもまずは、forループを使わないでデータを取ってみましょう！\n",
    "\n",
    "- 小さく情報取得してみる\n",
    "- 大丈夫そうだったらforループする\n",
    "\n",
    "この手順で進めていこうと思います。"
   ]
  },
  {
   "cell_type": "markdown",
   "metadata": {},
   "source": [
    "## ライブラリのインポート\n",
    "\n",
    "まずは、ライブラリのインポートからやっていきます。\n",
    "\n",
    "とは言っても、いつもとやることは変わりません。`Requests`と`BeautifulSoup`をインポートしていきましょう。"
   ]
  },
  {
   "cell_type": "code",
   "execution_count": null,
   "metadata": {},
   "outputs": [],
   "source": []
  },
  {
   "cell_type": "markdown",
   "metadata": {},
   "source": [
    "## RequestsでURLにアクセスしてHTMLを解析する\n",
    "\n",
    "次に`Requests`を使ってURLにアクセスし、HTMLを取得して解析していきます。\n",
    "\n",
    "URLは`https://suumo.jp/chintai/tokyo/sc_shinjuku/`ですが、今回は以下のように書いておきたいと思います。"
   ]
  },
  {
   "cell_type": "code",
   "execution_count": null,
   "metadata": {},
   "outputs": [],
   "source": [
    "# 変数urlにSUUMOホームページのURLを格納する\n",
    "\n",
    "\n",
    "# アクセスするためのURLをtarget_urlに格納する\n",
    "\n",
    "\n",
    "# print()してtarget_urlを確認する\n"
   ]
  },
  {
   "cell_type": "markdown",
   "metadata": {},
   "source": [
    "このように、`?page={]`を付けて、あとから`format`を使ってURLを作成しました。\n",
    "\n",
    "最初から`url = 'https://suumo.jp/chintai/tokyo/sc_shinjuku/?page=1'`のように書かない理由は、2ページ目以降にアクセスするとき、forループを使っていくためです。\n",
    "\n",
    "<br>\n",
    "\n",
    "\n",
    "というのも、2ページ目のURLは`https://suumo.jp/chintai/tokyo/sc_shinjuku/?page=2`になっています。\n",
    "\n",
    "それ以降のページに関しても`?page=3`のように、数字が変更されるだけです。\n",
    "\n",
    "<br>\n",
    "\n",
    "数字だけ変更すれば使い回しできるってわけですね。\n",
    "\n",
    "今回はまだforループを使わないでデータを取っていきますので、この`target_url`にアクセスしていきましょう。"
   ]
  },
  {
   "cell_type": "code",
   "execution_count": null,
   "metadata": {},
   "outputs": [],
   "source": [
    "# target_urlへのアクセス結果を、変数rに格納\n",
    "\n",
    "\n",
    "# 取得結果を解析してsoupに格納\n"
   ]
  },
  {
   "cell_type": "markdown",
   "metadata": {},
   "source": [
    "この部分はいつもどおりですね。\n",
    "\n",
    "あとは`soup`に対して`find()`や`find_all()`を使って情報を取得するだけです！"
   ]
  },
  {
   "cell_type": "markdown",
   "metadata": {},
   "source": [
    "## soupから情報を抽出する\n",
    "\n",
    "まずは、各賃貸情報がどのような形で格納されているか確認しましょう。\n",
    "\n",
    "Webページで「検証」を開くと、HTMLの構造を閲覧できます。\n",
    "\n",
    "<br>\n",
    "\n",
    "HTMLを確認すると、それぞれの賃貸情報は`div`タグの`cassetteitem`に格納されていることが分かります。\n",
    "\n",
    "まずは各賃貸情報をすべて取得して、その後でそれぞれのブロックから情報を抽出するようにしましょう。\n",
    "\n",
    "すべてのタグ情報をクラス付きで指定する方法は、前回やった`find_all(タグ名, class_='')`ですね！"
   ]
  },
  {
   "cell_type": "code",
   "execution_count": null,
   "metadata": {},
   "outputs": [],
   "source": [
    "# cassetteクラスを持ったdivタグをすべて取得して、変数contentsに格納\n"
   ]
  },
  {
   "cell_type": "markdown",
   "metadata": {},
   "source": [
    "これで、`cassetteitem`を持つすべての`div`タグを取得できました。\n",
    "\n",
    "SUUMOのページでは、デフォルトで1ページあたり20件の賃貸情報が掲載されているようです。\n",
    "\n",
    "`find_all()`で取得した結果は、Pythonリスト形式になっているので、`len()`を使えば中身の要素数を確認できます。"
   ]
  },
  {
   "cell_type": "code",
   "execution_count": null,
   "metadata": {},
   "outputs": [],
   "source": [
    "# 変数contentsの中身を確認する\n"
   ]
  },
  {
   "cell_type": "markdown",
   "metadata": {},
   "source": [
    "ちゃんと賃貸情報のブロックを取得できていますね。\n",
    "\n",
    "いまはforループを使わないでコード作成したいので、変数`content`の中に最初の要素を格納しておきましょう。"
   ]
  },
  {
   "cell_type": "code",
   "execution_count": null,
   "metadata": {},
   "outputs": [],
   "source": [
    "# 変数contentにcontentsの最初の要素を格納する\n"
   ]
  },
  {
   "cell_type": "markdown",
   "metadata": {},
   "source": [
    "あとは、最初のブロックに入っている賃貸情報から、自分が欲しい情報を取得していくだけです。\n",
    "\n",
    "このページからは色々な情報を抽出できますが、今回は以下の項目を取得したいと思います。\n",
    "\n",
    "- 物件情報\n",
    "  - 物件名\n",
    "  - 住所\n",
    "  - アクセス\n",
    "  - 築年数\n",
    "- 部屋情報\n",
    "  - 物件の階数\n",
    "  - 物件の賃料/管理費\n",
    "  - 物件の敷金・礼金\n",
    "  - 物件の間取り・面積"
   ]
  },
  {
   "cell_type": "markdown",
   "metadata": {},
   "source": [
    "### 物件情報と部屋情報が入ったブロックを取得する\n",
    "\n",
    "賃貸情報のブロックを確認すると、「物件・建物の情報」と「各部屋の情報」で格納されているタグが、別になっていることが分かります。\n",
    "\n",
    "あとで詳細情報を取り出しやすいように、それぞれの情報を変数に格納しておきましょう。"
   ]
  },
  {
   "cell_type": "code",
   "execution_count": null,
   "metadata": {},
   "outputs": [],
   "source": [
    "# 物件・建物情報を変数detailに格納する\n",
    "\n",
    "\n",
    "# 各部屋の情報を変数tableに格納する\n"
   ]
  },
  {
   "cell_type": "markdown",
   "metadata": {},
   "source": [
    "こうしておくと、毎回`find()`以降を書かずに済みます。"
   ]
  },
  {
   "cell_type": "markdown",
   "metadata": {},
   "source": [
    "### 物件情報を抽出する\n",
    "\n",
    "ということで、まずは物件情報を取得していきましょう。\n",
    "\n",
    "物件情報で取得できるのは、以下の部分です。\n",
    "\n",
    "- 物件名\n",
    "- 住所\n",
    "- アクセス\n",
    "- 築年数\n",
    "\n",
    "これらの情報を取得するには、SUUMOのホームページで「検証」をクリックして、どこのタグに格納されているのか確認する必要があります。\n",
    "\n",
    "<br>\n",
    "\n",
    "どのタグに格納されているのか確認できたら、取得結果を変数に格納してあげましょう。"
   ]
  },
  {
   "cell_type": "code",
   "execution_count": null,
   "metadata": {},
   "outputs": [],
   "source": [
    "# 変数titleに、物件名を格納する\n",
    "\n",
    "\n",
    "# 変数addressに住所を格納する\n",
    "\n",
    "\n",
    "# 変数accessにアクセス情報を格納する\n",
    "\n",
    "\n",
    "# 変数ageに築年数を格納する\n"
   ]
  },
  {
   "cell_type": "markdown",
   "metadata": {},
   "source": [
    "取得結果を格納できたら、実際に中身を見てみましょう。"
   ]
  },
  {
   "cell_type": "code",
   "execution_count": null,
   "metadata": {},
   "outputs": [],
   "source": [
    "# 各変数の取得結果を確認\n"
   ]
  },
  {
   "cell_type": "markdown",
   "metadata": {},
   "source": [
    "しっかりと中身を取得できていますね！\n",
    "\n",
    "*※途中で改行記号(`\\n`)などが入っていますが、それらは無視して大丈夫です。*\n"
   ]
  },
  {
   "cell_type": "markdown",
   "metadata": {},
   "source": [
    "### 部屋情報を抽出する\n",
    "\n",
    "次は各部屋の情報を取得していきましょう。\n",
    "\n",
    "変数`table`に格納しておいたHTMLの解析結果から、以下の情報を取得していきたいと思います。\n",
    "\n",
    "- 物件の階数\n",
    "- 物件の賃料/管理費\n",
    "- 物件の敷金・礼金\n",
    "- 物件の間取り・面積\n",
    "\n",
    "各部屋の情報は`<table>`タグに囲まれているので、`<tr>`を見てあげると1つの部屋情報になっているはずです。\n",
    "\n",
    "*※`<tr>`はtable rowの省略で、`<table>`タグの行(横一列)のことです。SUUMOのページを見ると、1つ1つの部屋情報は、横1列に並んでいるかと思います。*\n",
    "\n",
    "なので、テーブルから部屋情報を抽出するときは、複数の`<tr>`タグを見てあげる必要があります。\n",
    "\n",
    "<br>\n",
    "\n",
    "複数の`<tr>`タグを抽出するには...。そうです、`find_all()`を使って取得していきます。\n",
    "\n",
    "さらに習得した結果はリストになっていますので、今回は最初の1つ(=インデックス番号0)だけ取得してみましょう。"
   ]
  },
  {
   "cell_type": "code",
   "execution_count": null,
   "metadata": {},
   "outputs": [],
   "source": [
    "# 変数tableからすべてのtrタグを取得して、変数tr_tagsに格納\n",
    "\n",
    "\n",
    "# tr_targsの中から最初の1つだけtr_tagに格納\n"
   ]
  },
  {
   "cell_type": "markdown",
   "metadata": {},
   "source": [
    "これで、複数の部屋情報から、1つの部屋情報だけ取得できました。\n",
    "\n",
    "あとは、変数`tr_tag`から以下4つの情報を取得するだけです。\n",
    "\n",
    "- 物件の階数\n",
    "- 物件の賃料/管理費\n",
    "- 物件の敷金・礼金\n",
    "- 物件の間取り・面積"
   ]
  },
  {
   "cell_type": "markdown",
   "metadata": {},
   "source": [
    "### 演習\n",
    "\n",
    "変数`tr_tag`から、以下の情報を取得してみましょう。\n",
    "\n",
    "- 物件の階数\n",
    "- 物件の賃料/管理費\n",
    "- 物件の敷金・礼金\n",
    "- 物件の間取り・面積\n",
    "\n",
    "*※参考程度に、僕の方で作成してある答えは、1行で書けるコードになっています！*\n",
    "\n",
    "こちらの答えあわせは、次回の動画で解説していきますね！"
   ]
  },
  {
   "cell_type": "code",
   "execution_count": null,
   "metadata": {},
   "outputs": [],
   "source": []
  }
 ],
 "metadata": {
  "kernelspec": {
   "display_name": "Python 3",
   "language": "python",
   "name": "python3"
  },
  "language_info": {
   "codemirror_mode": {
    "name": "ipython",
    "version": 3
   },
   "file_extension": ".py",
   "mimetype": "text/x-python",
   "name": "python",
   "nbconvert_exporter": "python",
   "pygments_lexer": "ipython3",
   "version": "3.7.3"
  },
  "toc": {
   "base_numbering": 1,
   "nav_menu": {},
   "number_sections": true,
   "sideBar": true,
   "skip_h1_title": false,
   "title_cell": "Table of Contents",
   "title_sidebar": "Contents",
   "toc_cell": false,
   "toc_position": {},
   "toc_section_display": true,
   "toc_window_display": true
  }
 },
 "nbformat": 4,
 "nbformat_minor": 2
}
