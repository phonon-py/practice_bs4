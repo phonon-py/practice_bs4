{
 "cells": [
  {
   "cell_type": "markdown",
   "metadata": {},
   "source": [
    "# 【第5回】BeautifulSoupの使い方③\n",
    "\n",
    "これまでの講義で、BeautifulSoupを使って以下のことができるようになりました。\n",
    "\n",
    "- 第3回目の講義 : **find()**を使って該当するタグ(例えば`<h2>`)から**1つだけ要素**を取り出す\n",
    "- 第4回目の講義 : **find_all()**を使って該当するタグ(例えば`<h2>`)から**すべての要素**を取り出す\n",
    "\n",
    "今回の講義では、クラスを指定して`find_all()`を使うことで、自分が欲しい情報をピンポイントで取得していきたいと思います。\n",
    "\n",
    "また、今回の講義では演習も付けています。演習を通して大事なことをお伝えしていきますので、ぜひ最後まで聴いていただけると嬉しいです！\n",
    "\n",
    "\n",
    "*※動画の感想を、僕のTwitterにメンションしてツイートしていただけると嬉しいです（ ;  ; ）！*\n",
    "\n",
    "Twitter : [@hayatasuuu](https://twitter.com/hayatasuuu)"
   ]
  },
  {
   "cell_type": "markdown",
   "metadata": {},
   "source": [
    "# クラスを指定して情報を取得する\n",
    "\n",
    "今回のレクチャーでもPythonの公式ページを使っていきます。\n",
    "\n",
    "前回は、`find_all()`を使ってすべての`<h2>`タグを取得しましたが、今回はさらに条件を絞ってデータ抽出できるようになりましょう！"
   ]
  },
  {
   "cell_type": "markdown",
   "metadata": {},
   "source": [
    "## 必要なライブラリのインポート\n",
    "\n",
    "まずはライブラリのインポートをします。"
   ]
  },
  {
   "cell_type": "code",
   "execution_count": null,
   "metadata": {},
   "outputs": [],
   "source": []
  },
  {
   "cell_type": "markdown",
   "metadata": {},
   "source": [
    "## STEP1 : RequestsでHTMLを取得する\n",
    "\n",
    "こちらも今までどおりですね。`Requests`を使って、Python公式ページへアクセスしていきます。\n",
    "\n",
    "https://www.python.org/\n"
   ]
  },
  {
   "cell_type": "code",
   "execution_count": null,
   "metadata": {},
   "outputs": [],
   "source": [
    "# 変数urlに、Python公式ページのURLを入れる\n",
    "\n",
    "\n",
    "# URLにアクセスした結果を、変数rに代入する\n"
   ]
  },
  {
   "cell_type": "markdown",
   "metadata": {},
   "source": [
    "## STEP2 : 取得したHTMLを解析する\n",
    "\n",
    "アクセス結果からテキスト情報を取得して、`BeautifulSoup`でHTMLを解析しましょう。"
   ]
  },
  {
   "cell_type": "code",
   "execution_count": null,
   "metadata": {},
   "outputs": [],
   "source": [
    "# BeautifulSoupでHTMLを解析する\n"
   ]
  },
  {
   "cell_type": "markdown",
   "metadata": {},
   "source": [
    "あとは、クラスを指定して情報を取得するだけですね。"
   ]
  },
  {
   "cell_type": "markdown",
   "metadata": {},
   "source": [
    "## クラスを指定して情報を取得する\n",
    "\n",
    "今回は、今まで扱っていた`<h2>`タグではなく、`<span>`タグの情報を取得していきたいと思います。\n",
    "\n",
    "Python公式ページには、非常にたくさんの`<span>`タグが使われており、クラス指定の効果を体感するには持ってこいだからです。\n",
    "\n",
    "<br>\n",
    "\n",
    "というわけで、まずはいつも通りに`find_all()`を使って`<span>`タグを取得してみましょう。"
   ]
  },
  {
   "cell_type": "code",
   "execution_count": null,
   "metadata": {},
   "outputs": [],
   "source": [
    "# spanタグの数を確認する\n",
    "\n",
    "\n",
    "# Python公式ページで、すべてのspanタグを確認\n"
   ]
  },
  {
   "cell_type": "markdown",
   "metadata": {},
   "source": [
    "結果を確認してみると、全部で74個の`<span>`があることが分かりました。\n",
    "\n",
    "これらすべての情報が欲しいという機会はあまりなく、やはり「特定の`<span>`タグの情報が欲しい」と思う機会が多いはずです。\n",
    "\n",
    "今回は、たとえば「`say-no-more`というクラス名が付いているテキストだけ取得する」ということを考えていきましょう。\n",
    "\n",
    "<br>\n",
    "\n",
    "クラスを指定する方法は非常にカンタンで、`find_all()`の引数に`class_`を追加してあげるだけです。"
   ]
  },
  {
   "cell_type": "code",
   "execution_count": null,
   "metadata": {},
   "outputs": [],
   "source": [
    "# say-no-moreクラスを持つspanタグをすべて取得する\n"
   ]
  },
  {
   "cell_type": "markdown",
   "metadata": {},
   "source": [
    "取得結果を見てみると、`say-no-more`クラスを持つ`<span>`タグだけ取得できています。\n",
    "\n",
    "このように、該当するクラスを指定してタグを取得するときは、`class_`を使ってあげます。\n",
    "\n",
    "*※`class`ではなく`class_`が採用されている理由は、Pythonの予約語で`class`が存在するからです。予約語というのは、Pythonであらかじめ使われている名前です！*\n",
    "\n",
    "なので、`BeautifulSoup`ではアンダースコアがついたクラスを使ってあげます。\n",
    "\n",
    "<br>\n",
    "\n",
    "もしアンダースコアが付かない形でクラスを指定したい場合、以下のように辞書の形で書くことも可能です。"
   ]
  },
  {
   "cell_type": "code",
   "execution_count": null,
   "metadata": {},
   "outputs": [],
   "source": [
    "# 辞書の形でsay-no-moreをクラスに持つspanタグを取得する\n"
   ]
  },
  {
   "cell_type": "markdown",
   "metadata": {},
   "source": [
    "正確には引数`attrs`に渡しているので、`soup.find_all('span', attrs={'class': 'say-no-more'})`ですが、これは省略して問題ないです。\n",
    "\n",
    "<br>\n",
    "\n",
    "さらに、複数のクラスを指定することも可能です。\n",
    "\n",
    "今回は`say-no-more`だけでなく、`message`クラスも一緒に取得していきましょう。\n",
    "\n",
    "複数のクラスを指定するには、リストの形で引数に渡してあげます。"
   ]
  },
  {
   "cell_type": "code",
   "execution_count": null,
   "metadata": {},
   "outputs": [],
   "source": [
    "# messageとsay-no-moreをクラスに持つspanタグを取得する\n"
   ]
  },
  {
   "cell_type": "markdown",
   "metadata": {},
   "source": [
    "こうですね。\n",
    "\n",
    "これで複数のクラスを指定して`<span>`タグの情報を取得できるようになりました。\n",
    "\n",
    "<br>\n",
    "\n",
    "ここまで習得した内容を使っても、かなりできることが増えましたね！\n",
    "\n",
    "とは言っても、やはり知識はアウトプットしないと定着しないので、演習問題をやってみましょう！"
   ]
  },
  {
   "cell_type": "markdown",
   "metadata": {},
   "source": [
    "# 演習\n",
    "\n",
    "[テックダイアリー(僕のブログ)](https://tech-diary.net)の以下の記事で、すべての見出し(`<h2>`と`<h3>`)を取得して、リスト形式で保存しましょう。\n",
    "\n",
    "https://tech-diary.net/python-scraping-books/\n",
    "\n",
    "<hr>\n",
    "\n",
    "▼完成イメージ\n",
    "```\n",
    "['【厳選4冊】Webスクレイピング(Python)でおすすめの本【実務OK】',\n",
    " 'おすすめ① : Python2年生 スクレイピングのしくみ 体験してわかる！会話でまなべる！',\n",
    " 'おすすめ② : Pythonクローリング&スクレイピング[増補改訂版]',\n",
    " 'おすすめ③ : Pythonスクレイピングの基本と実践 データサイエンティストのためのWebデータ収集術',\n",
    " 'おすすめ④ : PythonによるWebスクレイピング 第2版',\n",
    " '【Webスクレイピング学習】Pythonとセットで学ぶべきこと3つ',\n",
    " '学ぶべきこと① : HTML, CSS',\n",
    " '学ぶべきこと② : JavaScript',\n",
    " '学ぶべきこと③ : Web技術の知識',\n",
    " 'まずは無料でPythonとスクレイピングを学ぼう【本より分かりやすい】']\n",
    "```\n",
    "\n",
    "<hr>\n",
    "\n",
    "*※できれば1回のリクエストで情報取得していただけると嬉しいです（ ;  ; ）*"
   ]
  },
  {
   "cell_type": "code",
   "execution_count": null,
   "metadata": {},
   "outputs": [],
   "source": []
  },
  {
   "cell_type": "code",
   "execution_count": null,
   "metadata": {},
   "outputs": [],
   "source": []
  },
  {
   "cell_type": "code",
   "execution_count": null,
   "metadata": {},
   "outputs": [],
   "source": []
  },
  {
   "cell_type": "markdown",
   "metadata": {},
   "source": [
    "## 補足\n",
    "\n",
    "今回の演習で取得したヘッダーの中には、1つ余計なものが含まれています。\n",
    "\n",
    "実際に記事を見ていただけると分かりますが、関連記事の情報まで取得してしまっています。\n",
    "\n",
    "<br>\n",
    "\n",
    "関連記事の情報は、「記事の見出し(`<h2>`と`<h3>`)を取得する」が目的だったとき、ノイズになってしまいます。\n",
    "\n",
    "これを解決するには、以下の方法があります。\n",
    "\n",
    "- 取得する範囲を狭くする\n",
    "- 該当する要素を削除する\n",
    "\n",
    "これらも合わせて見ていきましょう！"
   ]
  },
  {
   "cell_type": "markdown",
   "metadata": {},
   "source": [
    "### 取得する範囲を狭くする\n",
    "\n",
    "「`Requests`で取得したHTML全体に対して」ではなく、「記事の本文に対して」見出しタグを取得すれば問題を解決できます。\n",
    "\n",
    "今まで`soup.find()`のように、`find()`を一回しか使いませんでしたが、実は**何度も使うことが可能**です。\n",
    "\n",
    "<br>\n",
    "\n",
    "このことを利用すると、記事の本文に対してすべての見出しタグを取得するには、以下のように書くことができます。"
   ]
  },
  {
   "cell_type": "code",
   "execution_count": null,
   "metadata": {},
   "outputs": [],
   "source": [
    "# 記事本文の部分を指定してから見出しタグを取得する\n"
   ]
  },
  {
   "cell_type": "markdown",
   "metadata": {},
   "source": [
    "先ほどまでは、余計な`<h2>`タグが含まれていましたが、今回は記事の本文から見出しを取得しているのでノイズ削除できました。\n",
    "\n",
    "このように、どんどん範囲を狭めていって情報抽出する方法は、非常によく使います。\n",
    "\n",
    "<br>\n",
    "\n",
    "また記事の本文から、他に取得したい部分がある可能性が高いので、以下のようにいったん変数に入れてあげるのも良いですね。\n",
    "\n",
    "*※僕自身、複数回使う部分を変数に入れて、その後で細かい部分を取りにいくことが多いです！*\n",
    "\n",
    "\n"
   ]
  },
  {
   "cell_type": "code",
   "execution_count": null,
   "metadata": {},
   "outputs": [],
   "source": [
    "# 変数bodyに、記事本文を入れておく\n",
    "\n",
    "\n",
    "# bodyから見出しをすべて取得する\n"
   ]
  },
  {
   "cell_type": "markdown",
   "metadata": {},
   "source": [
    "このように書いておけば、何回も`soup.find('article')`を書かずに済みます。"
   ]
  },
  {
   "cell_type": "markdown",
   "metadata": {},
   "source": [
    "### 該当する要素を削除する\n",
    "\n",
    "もうひとつは、該当する要素を削除する方法です。\n",
    "\n",
    "この方法では`find()`を使って要素を特定したあとで、`extract()`を使ってあげます。"
   ]
  },
  {
   "cell_type": "code",
   "execution_count": null,
   "metadata": {},
   "outputs": [],
   "source": [
    "# 削除前の見出し数を確認\n",
    "\n",
    "\n",
    "# 該当する要素を削除する\n",
    "\n",
    "\n",
    "# 削除後の見出し数を確認\n",
    "\n",
    "\n",
    "# 見出しの中身を確認\n"
   ]
  },
  {
   "cell_type": "markdown",
   "metadata": {},
   "source": [
    "`extrace()`を使うことで、ノイズになっていた見出しを削除できていることが分かるかと思います。\n",
    "\n",
    "これでも必要としていたデータ抽出ができていますね。"
   ]
  },
  {
   "cell_type": "markdown",
   "metadata": {},
   "source": [
    "### おすすめのデータ抽出方法\n",
    "\n",
    "取得したいデータの抽出方法を2つ紹介してきました。\n",
    "\n",
    "- 取得する範囲を狭くする\n",
    "- 該当する要素を削除する\n",
    "\n",
    "2つ紹介したところで「どちらの方が良いのか」ですが、可能なかぎり「取得する範囲を狭くする」ことをオススメします。\n",
    "\n",
    "その理由は「該当する要素を削除する」だと、破壊的な方法になってしまうからです。\n",
    "\n",
    "<br>\n",
    "\n",
    "破壊的な方法というのは、取得してきたデータ(`soup`)の中身が変わってしまうということです。\n",
    "\n",
    "`extract()`を一度使ってしまうと`soup`の中から消えてしまうので、逆に「関連記事を取得したいな...」と思ったとき、その要素を取得できなくなります。\n",
    "\n",
    "仮に取得したい思ったときは、`requests.get()`を使って、HTMLの情報を取得し直す必要が出てきてしまいます。\n",
    "\n",
    "<br>\n",
    "\n",
    "そうすると、何回も相手方のWebサイトにアクセスすることになってしまうので、できれば取得したデータを変更しないで欲しいデータを抽出できる「取得する範囲を狭くする」方法を選びましょう！\n",
    "\n",
    "<br>\n",
    "\n",
    "というわけで、今回はクラス指定して情報を取得する方法と、さらには絞り込みをかける方法まで学習していきました。\n",
    "\n",
    "次回は今までの集大成を込めて、不動産のホームページから情報を抽出していきたいと思います。\n",
    "\n",
    "次回の内容が理解できると、JavaScriptが使われていないWebページであれば、自由自在に情報を取得できるようになります。\n",
    "\n",
    "一緒に頑張っていきましょう！"
   ]
  },
  {
   "cell_type": "code",
   "execution_count": null,
   "metadata": {},
   "outputs": [],
   "source": []
  }
 ],
 "metadata": {
  "kernelspec": {
   "display_name": "Python 3",
   "language": "python",
   "name": "python3"
  },
  "language_info": {
   "codemirror_mode": {
    "name": "ipython",
    "version": 3
   },
   "file_extension": ".py",
   "mimetype": "text/x-python",
   "name": "python",
   "nbconvert_exporter": "python",
   "pygments_lexer": "ipython3",
   "version": "3.7.3"
  },
  "toc": {
   "base_numbering": 1,
   "nav_menu": {},
   "number_sections": true,
   "sideBar": true,
   "skip_h1_title": false,
   "title_cell": "Table of Contents",
   "title_sidebar": "Contents",
   "toc_cell": false,
   "toc_position": {},
   "toc_section_display": true,
   "toc_window_display": true
  }
 },
 "nbformat": 4,
 "nbformat_minor": 2
}
